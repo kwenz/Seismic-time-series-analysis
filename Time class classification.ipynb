{
 "cells": [
  {
   "cell_type": "markdown",
   "metadata": {},
   "source": [
    "## Testing two classifiers, an SVM and a neural network, to distinguish between low- and high-T data."
   ]
  },
  {
   "cell_type": "markdown",
   "metadata": {},
   "source": [
    "I load the Network class that's in another notebook."
   ]
  },
  {
   "cell_type": "code",
   "execution_count": 1,
   "metadata": {},
   "outputs": [],
   "source": [
    "import numpy as np\n",
    "from sklearn.model_selection import train_test_split\n",
    "from sklearn.svm import SVC\n",
    "import tensorflow as tf \n",
    "import h5py\n",
    "\n",
    "%run Network.ipynb\n",
    "\n",
    "import warnings\n",
    "warnings.filterwarnings('ignore')"
   ]
  },
  {
   "cell_type": "code",
   "execution_count": 2,
   "metadata": {},
   "outputs": [],
   "source": [
    "f=h5py.File(\"PCA_params.hdf5\",\"r\")\n",
    "P=f['Parameters']\n",
    "T=f['Time']\n",
    "N=len(T)\n",
    "\n",
    "P=np.array(P)\n",
    "T=np.array(T)\n",
    "L=np.where(T<=0.35,1,0)\n",
    "\n",
    "f.close()"
   ]
  },
  {
   "cell_type": "markdown",
   "metadata": {},
   "source": [
    "The data set is divided into test set, validation set (for the net) and a training set."
   ]
  },
  {
   "cell_type": "code",
   "execution_count": 3,
   "metadata": {},
   "outputs": [],
   "source": [
    "P_tr_val,P_test,L_tr_val,L_test=train_test_split(P,L,test_size=0.1)\n",
    "P_train,P_val,L_train,L_val=train_test_split(P_tr_val,L_tr_val,test_size=0.2)"
   ]
  },
  {
   "cell_type": "markdown",
   "metadata": {},
   "source": [
    "### Neural network"
   ]
  },
  {
   "cell_type": "markdown",
   "metadata": {},
   "source": [
    "The neural network will have only one hidden layer with 50 cells. All of them are connected. Number of cells in the hidden layer and the learning rate were chosen after tweaking and testing the network a couple times. The network is also saved to a file."
   ]
  },
  {
   "cell_type": "code",
   "execution_count": 4,
   "metadata": {},
   "outputs": [],
   "source": [
    "layers=[P.shape[1],50,2]\n",
    "batch_size=50\n",
    "n_epochs=20\n",
    "learning_rate=0.0001\n",
    "fl_name='time_classifier'"
   ]
  },
  {
   "cell_type": "markdown",
   "metadata": {},
   "source": [
    "We use sigmoid function as the activation function and stochastic gradient descent with a batch size of 50."
   ]
  },
  {
   "cell_type": "code",
   "execution_count": 5,
   "metadata": {
    "scrolled": false
   },
   "outputs": [
    {
     "name": "stdout",
     "output_type": "stream",
     "text": [
      "\n",
      "WARNING: The TensorFlow contrib module will not be included in TensorFlow 2.0.\n",
      "For more information, please see:\n",
      "  * https://github.com/tensorflow/community/blob/master/rfcs/20180907-contrib-sunset.md\n",
      "  * https://github.com/tensorflow/addons\n",
      "If you depend on functionality not listed there, please file an issue.\n",
      "\n",
      "WARNING:tensorflow:From <ipython-input-1-bd6ec4705928>:24: dense (from tensorflow.python.layers.core) is deprecated and will be removed in a future version.\n",
      "Instructions for updating:\n",
      "Use keras.layers.dense instead.\n",
      "WARNING:tensorflow:From c:\\python\\python37\\lib\\site-packages\\tensorflow\\python\\framework\\op_def_library.py:263: colocate_with (from tensorflow.python.framework.ops) is deprecated and will be removed in a future version.\n",
      "Instructions for updating:\n",
      "Colocations handled automatically by placer.\n",
      "0 Train accuracy: 0.3429663 Val accuracy: 0.36050156\n",
      "1 Train accuracy: 0.52076805 Val accuracy: 0.5481975\n",
      "2 Train accuracy: 0.6628135 Val accuracy: 0.6775078\n",
      "3 Train accuracy: 0.77037615 Val accuracy: 0.7754702\n",
      "4 Train accuracy: 0.85109717 Val accuracy: 0.84757054\n",
      "5 Train accuracy: 0.906348 Val accuracy: 0.9020376\n",
      "6 Train accuracy: 0.9363245 Val accuracy: 0.92789966\n",
      "7 Train accuracy: 0.9522923 Val accuracy: 0.947884\n",
      "8 Train accuracy: 0.9588558 Val accuracy: 0.9541536\n",
      "9 Train accuracy: 0.9621865 Val accuracy: 0.95689654\n",
      "10 Train accuracy: 0.9633621 Val accuracy: 0.9576802\n",
      "11 Train accuracy: 0.9641458 Val accuracy: 0.9588558\n",
      "12 Train accuracy: 0.9645376 Val accuracy: 0.9588558\n",
      "13 Train accuracy: 0.9645376 Val accuracy: 0.9588558\n",
      "14 Train accuracy: 0.9645376 Val accuracy: 0.9588558\n",
      "15 Train accuracy: 0.9645376 Val accuracy: 0.9588558\n",
      "16 Train accuracy: 0.9645376 Val accuracy: 0.9588558\n",
      "17 Train accuracy: 0.9645376 Val accuracy: 0.9588558\n",
      "18 Train accuracy: 0.9645376 Val accuracy: 0.9588558\n",
      "19 Train accuracy: 0.9645376 Val accuracy: 0.9588558\n"
     ]
    }
   ],
   "source": [
    "net=Network(layers,batch_size,fl_name)\n",
    "net.create_network(learning_rate,activ=\"SIG\")\n",
    "net.train(P_train,L_train,P_val,L_val,n_epochs,save_model=True)"
   ]
  },
  {
   "cell_type": "code",
   "execution_count": 6,
   "metadata": {},
   "outputs": [
    {
     "data": {
      "image/png": "[encoded data removed]",
      "text/plain": [
       "<Figure size 432x288 with 1 Axes>"
      ]
     },
     "metadata": {
      "needs_background": "light"
     },
     "output_type": "display_data"
    }
   ],
   "source": [
    "net.plot_error()"
   ]
  },
  {
   "cell_type": "code",
   "execution_count": 7,
   "metadata": {
    "scrolled": true
   },
   "outputs": [
    {
     "name": "stdout",
     "output_type": "stream",
     "text": [
      "WARNING:tensorflow:From c:\\python\\python37\\lib\\site-packages\\tensorflow\\python\\training\\saver.py:1266: checkpoint_exists (from tensorflow.python.training.checkpoint_management) is deprecated and will be removed in a future version.\n",
      "Instructions for updating:\n",
      "Use standard file APIs to check for files with this prefix.\n",
      "INFO:tensorflow:Restoring parameters from ./time_classifier.ckpt\n",
      "Test score is 0.9669\n"
     ]
    }
   ],
   "source": [
    "NN_test_score=net.score(P_test,L_test)\n",
    "print('Test score is {:.4f}'.format(NN_test_score))"
   ]
  },
  {
   "cell_type": "markdown",
   "metadata": {},
   "source": [
    "### Support Vector Machine classifier"
   ]
  },
  {
   "cell_type": "markdown",
   "metadata": {},
   "source": [
    "The parameters for SVM classifier were also chosen after some optimization (grid search was performed). This SVM uses an rbf kernel. Gamma below 1, and C of about 4 both point towards lowering bias of the classification. "
   ]
  },
  {
   "cell_type": "code",
   "execution_count": 8,
   "metadata": {},
   "outputs": [
    {
     "data": {
      "text/plain": [
       "SVC(C=4.1875, cache_size=200, class_weight='balanced', coef0=0.0,\n",
       "  decision_function_shape='ovr', degree=3, gamma=0.265, kernel='rbf',\n",
       "  max_iter=-1, probability=False, random_state=None, shrinking=True,\n",
       "  tol=0.0001, verbose=False)"
      ]
     },
     "execution_count": 8,
     "metadata": {},
     "output_type": "execute_result"
    }
   ],
   "source": [
    "clf = SVC(class_weight=\"balanced\",gamma=0.265,tol=0.0001,C=4.1875)\n",
    "clf.fit(P_train,L_train) "
   ]
  },
  {
   "cell_type": "code",
   "execution_count": 9,
   "metadata": {},
   "outputs": [
    {
     "name": "stdout",
     "output_type": "stream",
     "text": [
      "Test score is 0.9661\n",
      "Training score is 0.9901\n"
     ]
    }
   ],
   "source": [
    "SVC_test_score=clf.score(P_test,L_test)\n",
    "SVC_train_score=clf.score(P_train,L_train)\n",
    "print('Test score is {:.4f}'.format(SVC_test_score))\n",
    "print('Training score is {:.4f}'.format(SVC_train_score))"
   ]
  },
  {
   "cell_type": "markdown",
   "metadata": {},
   "source": [
    "Both methods seem to yield almost identical result on the test set, even though SVM seems to slightly overfit to the training set."
   ]
  }
 ],
 "metadata": {
  "kernelspec": {
   "display_name": "Python 3",
   "language": "python",
   "name": "python3"
  },
  "language_info": {
   "codemirror_mode": {
    "name": "ipython",
    "version": 3
   },
   "file_extension": ".py",
   "mimetype": "text/x-python",
   "name": "python",
   "nbconvert_exporter": "python",
   "pygments_lexer": "ipython3",
   "version": "3.7.2"
  }
 },
 "nbformat": 4,
 "nbformat_minor": 2
}
