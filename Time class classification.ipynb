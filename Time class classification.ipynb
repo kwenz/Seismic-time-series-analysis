{
 "cells": [
  {
   "cell_type": "markdown",
   "metadata": {},
   "source": [
    "## Testing two classifiers, an SVM and a neural network, to distinguish between low- and high-T data."
   ]
  },
  {
   "cell_type": "markdown",
   "metadata": {},
   "source": [
    "I load the Network class that's in another notebook."
   ]
  },
  {
   "cell_type": "code",
   "execution_count": 2,
   "metadata": {},
   "outputs": [],
   "source": [
    "import numpy as np\n",
    "from sklearn.model_selection import train_test_split\n",
    "from sklearn.svm import SVC\n",
    "import tensorflow as tf \n",
    "import h5py\n",
    "\n",
    "%run Network.ipynb\n",
    "\n",
    "import warnings\n",
    "warnings.filterwarnings('ignore')"
   ]
  },
  {
   "cell_type": "code",
   "execution_count": 3,
   "metadata": {},
   "outputs": [],
   "source": [
    "f=h5py.File(\"PCA_params.hdf5\",\"r\")\n",
    "P=f['Parameters']\n",
    "T=f['Time']\n",
    "N=len(T)\n",
    "\n",
    "P=np.array(P)\n",
    "T=np.array(T)\n",
    "L=np.where(T<=0.35,1,0)\n",
    "\n",
    "f.close()"
   ]
  },
  {
   "cell_type": "markdown",
   "metadata": {},
   "source": [
    "The data set is divided into test set, validation set (for the net) and a training set."
   ]
  },
  {
   "cell_type": "code",
   "execution_count": 4,
   "metadata": {},
   "outputs": [],
   "source": [
    "P_tr_val,P_test,L_tr_val,L_test=train_test_split(P,L,test_size=0.1)\n",
    "P_train,P_val,L_train,L_val=train_test_split(P_tr_val,L_tr_val,test_size=0.2)"
   ]
  },
  {
   "cell_type": "markdown",
   "metadata": {},
   "source": [
    "### Neural network"
   ]
  },
  {
   "cell_type": "markdown",
   "metadata": {},
   "source": [
    "The neural network will have only one hidden layer with 50 cells. All of them are connected. Number of cells in the hidden layer and the learning rate were chosen after tweaking and testing the network a couple times. The network is also saved to a file."
   ]
  },
  {
   "cell_type": "code",
   "execution_count": 4,
   "metadata": {},
   "outputs": [],
   "source": [
    "layers=[P.shape[1],50,2]\n",
    "batch_size=50\n",
    "n_epochs=20\n",
    "learning_rate=0.0001\n",
    "fl_name='time_classifier'"
   ]
  },
  {
   "cell_type": "markdown",
   "metadata": {},
   "source": [
    "We use sigmoid function as the activation function and stochastic gradient descent with a batch size of 50."
   ]
  },
  {
   "cell_type": "code",
   "execution_count": 5,
   "metadata": {
    "scrolled": false
   },
   "outputs": [
    {
     "name": "stdout",
     "output_type": "stream",
     "text": [
      "\n",
      "WARNING: The TensorFlow contrib module will not be included in TensorFlow 2.0.\n",
      "For more information, please see:\n",
      "  * https://github.com/tensorflow/community/blob/master/rfcs/20180907-contrib-sunset.md\n",
      "  * https://github.com/tensorflow/addons\n",
      "If you depend on functionality not listed there, please file an issue.\n",
      "\n",
      "WARNING:tensorflow:From <ipython-input-1-bd6ec4705928>:24: dense (from tensorflow.python.layers.core) is deprecated and will be removed in a future version.\n",
      "Instructions for updating:\n",
      "Use keras.layers.dense instead.\n",
      "WARNING:tensorflow:From c:\\python\\python37\\lib\\site-packages\\tensorflow\\python\\framework\\op_def_library.py:263: colocate_with (from tensorflow.python.framework.ops) is deprecated and will be removed in a future version.\n",
      "Instructions for updating:\n",
      "Colocations handled automatically by placer.\n",
      "0 Train accuracy: 0.3429663 Val accuracy: 0.36050156\n",
      "1 Train accuracy: 0.52076805 Val accuracy: 0.5481975\n",
      "2 Train accuracy: 0.6628135 Val accuracy: 0.6775078\n",
      "3 Train accuracy: 0.77037615 Val accuracy: 0.7754702\n",
      "4 Train accuracy: 0.85109717 Val accuracy: 0.84757054\n",
      "5 Train accuracy: 0.906348 Val accuracy: 0.9020376\n",
      "6 Train accuracy: 0.9363245 Val accuracy: 0.92789966\n",
      "7 Train accuracy: 0.9522923 Val accuracy: 0.947884\n",
      "8 Train accuracy: 0.9588558 Val accuracy: 0.9541536\n",
      "9 Train accuracy: 0.9621865 Val accuracy: 0.95689654\n",
      "10 Train accuracy: 0.9633621 Val accuracy: 0.9576802\n",
      "11 Train accuracy: 0.9641458 Val accuracy: 0.9588558\n",
      "12 Train accuracy: 0.9645376 Val accuracy: 0.9588558\n",
      "13 Train accuracy: 0.9645376 Val accuracy: 0.9588558\n",
      "14 Train accuracy: 0.9645376 Val accuracy: 0.9588558\n",
      "15 Train accuracy: 0.9645376 Val accuracy: 0.9588558\n",
      "16 Train accuracy: 0.9645376 Val accuracy: 0.9588558\n",
      "17 Train accuracy: 0.9645376 Val accuracy: 0.9588558\n",
      "18 Train accuracy: 0.9645376 Val accuracy: 0.9588558\n",
      "19 Train accuracy: 0.9645376 Val accuracy: 0.9588558\n"
     ]
    }
   ],
   "source": [
    "net=Network(layers,batch_size,fl_name)\n",
    "net.create_network(learning_rate,activ=\"SIG\")\n",
    "net.train(P_train,L_train,P_val,L_val,n_epochs,save_model=True)"
   ]
  },
  {
   "cell_type": "code",
   "execution_count": 6,
   "metadata": {},
   "outputs": [
    {
     "data": {
      "image/png": "[encoded data removed]",
      "text/plain": [
       "<Figure size 432x288 with 1 Axes>"
      ]
     },
     "metadata": {
      "needs_background": "light"
     },
     "output_type": "display_data"
    }
   ],
   "source": [
    "net.plot_error()"
   ]
  },
  {
   "cell_type": "code",
   "execution_count": 7,
   "metadata": {
    "scrolled": true
   },
   "outputs": [
    {
     "name": "stdout",
     "output_type": "stream",
     "text": [
      "WARNING:tensorflow:From c:\\python\\python37\\lib\\site-packages\\tensorflow\\python\\training\\saver.py:1266: checkpoint_exists (from tensorflow.python.training.checkpoint_management) is deprecated and will be removed in a future version.\n",
      "Instructions for updating:\n",
      "Use standard file APIs to check for files with this prefix.\n",
      "INFO:tensorflow:Restoring parameters from ./time_classifier.ckpt\n",
      "Test score is 0.9669\n"
     ]
    }
   ],
   "source": [
    "NN_test_score=net.score(P_test,L_test)\n",
    "print('Test score is {:.4f}'.format(NN_test_score))"
   ]
  },
  {
   "cell_type": "markdown",
   "metadata": {},
   "source": [
    "### Support Vector Machine classifier"
   ]
  },
  {
   "cell_type": "markdown",
   "metadata": {},
   "source": [
    "The parameters for SVM classifier were also chosen after some optimization (grid search was performed). This SVM uses an rbf kernel. Gamma below 1, and C of about 4 both point towards lowering bias of the classification. "
   ]
  },
  {
   "cell_type": "code",
   "execution_count": 5,
   "metadata": {},
   "outputs": [
    {
     "data": {
      "text/plain": [
       "SVC(C=4.1875, class_weight='balanced', gamma=0.265, tol=0.0001)"
      ]
     },
     "execution_count": 5,
     "metadata": {},
     "output_type": "execute_result"
    }
   ],
   "source": [
    "clf = SVC(class_weight=\"balanced\",gamma=0.265,tol=0.0001,C=4.1875)\n",
    "clf.fit(P_train,L_train) "
   ]
  },
  {
   "cell_type": "code",
   "execution_count": 6,
   "metadata": {},
   "outputs": [
    {
     "name": "stdout",
     "output_type": "stream",
     "text": [
      "Test score is 0.9690\n",
      "Training score is 0.9896\n"
     ]
    }
   ],
   "source": [
    "SVC_test_score=clf.score(P_test,L_test)\n",
    "SVC_train_score=clf.score(P_train,L_train)\n",
    "print('Test score is {:.4f}'.format(SVC_test_score))\n",
    "print('Training score is {:.4f}'.format(SVC_train_score))"
   ]
  },
  {
   "cell_type": "markdown",
   "metadata": {},
   "source": [
    "Both methods seem to yield almost identical result on the test set, even though SVM seems to slightly overfit to the training set."
   ]
  },
  {
   "cell_type": "markdown",
   "metadata": {},
   "source": [
    "### SVM classifier performance"
   ]
  },
  {
   "cell_type": "code",
   "execution_count": 33,
   "metadata": {},
   "outputs": [],
   "source": [
    "Prediction_test=clf.predict(P_test)\n",
    "Prediction_train=clf.predict(P_tr_val)"
   ]
  },
  {
   "cell_type": "code",
   "execution_count": 26,
   "metadata": {},
   "outputs": [],
   "source": [
    "import pandas as pd\n",
    "import matplotlib.pyplot as plt"
   ]
  },
  {
   "cell_type": "code",
   "execution_count": 34,
   "metadata": {},
   "outputs": [],
   "source": [
    "L_real=np.concatenate((L_test,L_tr_val))\n",
    "L_pred=np.concatenate((Prediction_test,Prediction_train))"
   ]
  },
  {
   "cell_type": "code",
   "execution_count": 35,
   "metadata": {},
   "outputs": [],
   "source": [
    "df=pd.DataFrame(data={\"Real\":L_real,\"Prediction\":L_pred})"
   ]
  },
  {
   "cell_type": "markdown",
   "metadata": {},
   "source": [
    "Confusion Matrix"
   ]
  },
  {
   "cell_type": "code",
   "execution_count": 36,
   "metadata": {},
   "outputs": [
    {
     "data": {
      "text/html": [
       "<div>\n",
       "<style scoped>\n",
       "    .dataframe tbody tr th:only-of-type {\n",
       "        vertical-align: middle;\n",
       "    }\n",
       "\n",
       "    .dataframe tbody tr th {\n",
       "        vertical-align: top;\n",
       "    }\n",
       "\n",
       "    .dataframe thead th {\n",
       "        text-align: right;\n",
       "    }\n",
       "</style>\n",
       "<table border=\"1\" class=\"dataframe\">\n",
       "  <thead>\n",
       "    <tr style=\"text-align: right;\">\n",
       "      <th>Prediction</th>\n",
       "      <th>0</th>\n",
       "      <th>1</th>\n",
       "    </tr>\n",
       "    <tr>\n",
       "      <th>Real</th>\n",
       "      <th></th>\n",
       "      <th></th>\n",
       "    </tr>\n",
       "  </thead>\n",
       "  <tbody>\n",
       "    <tr>\n",
       "      <th>0</th>\n",
       "      <td>13463</td>\n",
       "      <td>201</td>\n",
       "    </tr>\n",
       "    <tr>\n",
       "      <th>1</th>\n",
       "      <td>50</td>\n",
       "      <td>464</td>\n",
       "    </tr>\n",
       "  </tbody>\n",
       "</table>\n",
       "</div>"
      ],
      "text/plain": [
       "Prediction      0    1\n",
       "Real                  \n",
       "0           13463  201\n",
       "1              50  464"
      ]
     },
     "execution_count": 36,
     "metadata": {},
     "output_type": "execute_result"
    }
   ],
   "source": [
    "df_grouped=pd.crosstab(df.Real,df.Prediction)\n",
    "df_grouped"
   ]
  },
  {
   "cell_type": "markdown",
   "metadata": {},
   "source": [
    "We can now look at recall, precision and accuracy to see how good the predictions are. Here, we will assume that class \"1\" is the positive class, and so for example \"specificity\" will be equivalent to \"recall\" for class \"0\"."
   ]
  },
  {
   "cell_type": "code",
   "execution_count": 37,
   "metadata": {},
   "outputs": [],
   "source": [
    "TP=df_grouped[1][1]\n",
    "TN=df_grouped[0][0]\n",
    "FP=df_grouped[1][0]\n",
    "FN=df_grouped[0][1]"
   ]
  },
  {
   "cell_type": "code",
   "execution_count": 38,
   "metadata": {},
   "outputs": [],
   "source": [
    "RC0=TN/(TN+FP)\n",
    "RC1=TP/(TP+FN)\n",
    "PR0=TN/(TN+FN)\n",
    "PR1=TP/(TP+FP)\n",
    "ACC=(TN+TP)/(TN+TP+FP+FN)\n",
    "FNR=FN/(TP+FN)\n",
    "FPR=FN/(TN+FP)"
   ]
  },
  {
   "cell_type": "code",
   "execution_count": 39,
   "metadata": {},
   "outputs": [
    {
     "name": "stdout",
     "output_type": "stream",
     "text": [
      "Recall for class 0 (True Negative Rate): 98.53 %\n",
      "Recall for class 1 (True Positive Rate): 90.27 %\n",
      "Precision for class 0 (Negative Predictive Value): 99.63 %\n",
      "Precision for class 1 (Positive Predictive Value): 69.77 %\n",
      "False Negative Rate: 9.73 %\n",
      "False Positive Rate: 0.37 %\n",
      "Accuracy: 98.23 %\n"
     ]
    }
   ],
   "source": [
    "print('Recall for class 0 (True Negative Rate): {:.2f} %'.format(100*RC0))\n",
    "print('Recall for class 1 (True Positive Rate): {:.2f} %'.format(100*RC1))\n",
    "print('Precision for class 0 (Negative Predictive Value): {:.2f} %'.format(100*PR0))\n",
    "print('Precision for class 1 (Positive Predictive Value): {:.2f} %'.format(100*PR1))\n",
    "print('False Negative Rate: {:.2f} %'.format(100*FNR))\n",
    "print('False Positive Rate: {:.2f} %'.format(100*FPR))\n",
    "print('Accuracy: {:.2f} %'.format(100*ACC))"
   ]
  },
  {
   "cell_type": "markdown",
   "metadata": {},
   "source": [
    "We can look at ROC curve"
   ]
  },
  {
   "cell_type": "code",
   "execution_count": 48,
   "metadata": {},
   "outputs": [
    {
     "data": {
      "text/plain": [
       "Text(0, 0.5, 'TPR')"
      ]
     },
     "execution_count": 48,
     "metadata": {},
     "output_type": "execute_result"
    },
    {
     "data": {
      "image/png": "[encoded data removed]",
      "text/plain": [
       "<Figure size 576x576 with 1 Axes>"
      ]
     },
     "metadata": {
      "needs_background": "light"
     },
     "output_type": "display_data"
    }
   ],
   "source": [
    "X=[0,FPR,1]\n",
    "Y=[0,RC1,1]\n",
    "fig=plt.figure(figsize=(8,8))\n",
    "ax=fig.add_subplot(111)\n",
    "ax.plot(X,Y)\n",
    "ax.plot([0,1],[0,1],'r--')\n",
    "ax.set_xlabel(\"FPR\")\n",
    "ax.set_ylabel(\"TPR\")"
   ]
  },
  {
   "cell_type": "markdown",
   "metadata": {},
   "source": [
    "From the look of it the predictor is almost perfect and maximizes AUC. However, we have a problem with serious class imbalance, which means that ROC curve is not the best method to measure binary classifier's performance. From confusion matrix, we see that our precision is rather small despite rather low false positive and false negative rates. Precision-recall curve might better represent the problem."
   ]
  },
  {
   "cell_type": "code",
   "execution_count": 49,
   "metadata": {},
   "outputs": [
    {
     "data": {
      "text/plain": [
       "Text(0, 0.5, 'Precision')"
      ]
     },
     "execution_count": 49,
     "metadata": {},
     "output_type": "execute_result"
    },
    {
     "data": {
      "image/png": "[encoded data removed]",
      "text/plain": [
       "<Figure size 576x576 with 1 Axes>"
      ]
     },
     "metadata": {
      "needs_background": "light"
     },
     "output_type": "display_data"
    }
   ],
   "source": [
    "X=[0,RC1,1]\n",
    "Y=[1,PR1,0]\n",
    "fig=plt.figure(figsize=(8,8))\n",
    "ax=fig.add_subplot(111)\n",
    "ax.plot(X,Y)\n",
    "ax.plot([1,0],[0,1],'r--')\n",
    "ax.set_xlabel(\"Recall\")\n",
    "ax.set_ylabel(\"Precision\")"
   ]
  },
  {
   "cell_type": "markdown",
   "metadata": {},
   "source": [
    "Similarily, accuracy shown before might not be a good measure. Instead, we could use balanced accuracy defined as average of true positive rate and true negative rate. "
   ]
  },
  {
   "cell_type": "code",
   "execution_count": 42,
   "metadata": {},
   "outputs": [
    {
     "name": "stdout",
     "output_type": "stream",
     "text": [
      "Balanced Accuracy: 94.40 %\n"
     ]
    }
   ],
   "source": [
    "BACC=(RC0+RC1)/2\n",
    "print('Balanced Accuracy: {:.2f} %'.format(100*BACC))"
   ]
  },
  {
   "cell_type": "markdown",
   "metadata": {},
   "source": [
    "We can also look at the F-scores, although they also provide a rather useless information for imbalanced classes."
   ]
  },
  {
   "cell_type": "code",
   "execution_count": 45,
   "metadata": {},
   "outputs": [
    {
     "name": "stdout",
     "output_type": "stream",
     "text": [
      "F1-score for class 1: 0.7871\n"
     ]
    }
   ],
   "source": [
    "F1_1=2*PR1*RC1/(RC1+PR1)\n",
    "print('F1-score for class 1: {:.4f}'.format(F1_1))"
   ]
  },
  {
   "cell_type": "markdown",
   "metadata": {},
   "source": [
    "However, the Matthews correlation coefficient should not suffer from the same problems."
   ]
  },
  {
   "cell_type": "code",
   "execution_count": 46,
   "metadata": {},
   "outputs": [
    {
     "name": "stdout",
     "output_type": "stream",
     "text": [
      "Matthews correlation coefficient: 0.7851\n"
     ]
    }
   ],
   "source": [
    "MCC=(TP*TN-FP*FN)/np.sqrt((TP+FP)*(TP+FN)*(TN+FP)*(TN+FN))\n",
    "print('Matthews correlation coefficient: {:.4f}'.format(MCC))"
   ]
  }
 ],
 "metadata": {
  "kernelspec": {
   "display_name": "Python 3",
   "language": "python",
   "name": "python3"
  },
  "language_info": {
   "codemirror_mode": {
    "name": "ipython",
    "version": 3
   },
   "file_extension": ".py",
   "mimetype": "text/x-python",
   "name": "python",
   "nbconvert_exporter": "python",
   "pygments_lexer": "ipython3",
   "version": "3.7.2"
  }
 },
 "nbformat": 4,
 "nbformat_minor": 2
}
